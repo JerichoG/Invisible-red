{
 "cells": [
  {
   "cell_type": "code",
   "execution_count": 3,
   "id": "current-bathroom",
   "metadata": {},
   "outputs": [],
   "source": [
    "import cv2\n",
    "import numpy as np\n",
    "import time"
   ]
  },
  {
   "cell_type": "code",
   "execution_count": 9,
   "id": "composite-yorkshire",
   "metadata": {},
   "outputs": [],
   "source": [
    "video=cv2.VideoCapture(0)\n",
    "time.sleep(3)\n",
    "\n",
    "background=0\n",
    "\n",
    "for i in range(30):\n",
    "    ret,background=video.read()\n",
    "    \n",
    "background=np.flip(background, axis=1)\n",
    "\n",
    "\n",
    "while True:\n",
    "    ret, img=video.read()\n",
    "    img=np.flip(img, axis=1)\n",
    "    hsv=cv2.cvtColor(img, cv2.COLOR_BGR2HSV)\n",
    "    blur=cv2.GaussianBlur(hsv, (35,35), 0)\n",
    "    \n",
    "    \n",
    "    lower=np.array([0,120,70])\n",
    "    upper=np.array([10,255,255])\n",
    "    mask01=cv2.inRange(hsv,lower, upper)\n",
    "    \n",
    "    lower_red=np.array([150,120,70])\n",
    "    upper_red=np.array([200,250,250])\n",
    "    \n",
    "    mask02=cv2.inRange(hsv,lower_red, upper_red)\n",
    "    \n",
    "    mask=mask01+mask02\n",
    "    \n",
    "    mask=cv2.morphologyEx(mask, cv2.MORPH_OPEN, np.ones((5,5), np.uint8))\n",
    "    \n",
    "    \n",
    "    img[np.where(mask==255)] = background[np.where(mask==255)]\n",
    "    \n",
    "    \n",
    "    \n",
    "    \n",
    "    cv2.imshow(\"Display\",img)\n",
    "   \n",
    "    k=cv2.waitKey(1)\n",
    "    if k==ord('q'):\n",
    "        break\n",
    "video.release()\n",
    "cv2.destroyAllWindows()"
   ]
  },
  {
   "cell_type": "code",
   "execution_count": null,
   "id": "secret-depression",
   "metadata": {},
   "outputs": [],
   "source": []
  },
  {
   "cell_type": "code",
   "execution_count": null,
   "id": "noted-fairy",
   "metadata": {},
   "outputs": [],
   "source": []
  }
 ],
 "metadata": {
  "kernelspec": {
   "display_name": "Python 3",
   "language": "python",
   "name": "python3"
  },
  "language_info": {
   "codemirror_mode": {
    "name": "ipython",
    "version": 3
   },
   "file_extension": ".py",
   "mimetype": "text/x-python",
   "name": "python",
   "nbconvert_exporter": "python",
   "pygments_lexer": "ipython3",
   "version": "3.9.0"
  }
 },
 "nbformat": 4,
 "nbformat_minor": 5
}
